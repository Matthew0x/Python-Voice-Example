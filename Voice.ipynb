{
 "cells": [
  {
   "cell_type": "code",
   "execution_count": null,
   "id": "c528053f",
   "metadata": {},
   "outputs": [],
   "source": [
    "#First install the dependencies\n",
    "#pip install SpeechRecognition\n",
    "#pip install sounddevice\n",
    "\n",
    "import sounddevice as SoundDevice\n",
    "#import speech_recognition as SpeechRecognition\n",
    "\n",
    "#print(\"Your SpeechRecognition version is: \" + SpeechRecognition.__version__)\n",
    "print(\"Your SoundDevice version is: \" + SoundDevice.__version__)\n",
    "\n",
    "#Check your recording device's index\n",
    "print(\"\\n\")\n",
    "print(SoundDevice.query_devices())"
   ]
  },
  {
   "cell_type": "code",
   "execution_count": null,
   "id": "acd4282a",
   "metadata": {},
   "outputs": [],
   "source": [
    "#SoundDevice.default.samplerate = 48000\n",
    "#SoundDevice.default.channels = 2, 1\n",
    "#print(\"Default samplerate: \" + str(SoundDevice.default.samplerate) + \"\\n\" + \"Default channels for input/output: \" + str(SoundDevice.default.channels))\n",
    "\n",
    "#Time in seconds\n",
    "duration = 5\n",
    "\n",
    "#First input, then output\n",
    "inputName = \"Microphone (3- USB PnP Audio De, MME\"\n",
    "outputName = \"Speakers (3- DAC-X6), MME\"\n",
    "SoundDevice.default.device = inputName, outputName\n",
    "\n",
    "#Set input and output using indices\n",
    "#inputIndex = 1\n",
    "#outputIndex = 4\n",
    "#SoundDevice.default.device = inputIndex, outputIndex\n",
    "\n",
    "#Set default input/output\n",
    "#SoundDevice.defult.device = None, None\n",
    "\n",
    "SoundDevice.default.device\n",
    "print(SoundDevice.query_devices(inputName))\n",
    "#print(SoundDevice.query_devices(inputIndex))\n",
    "print(SoundDevice.query_devices(outputName))\n",
    "#print(SoundDevice.query_devices(outputIndex))\n",
    "\n",
    "inputSR = SoundDevice.query_devices(inputName).get(\"default_samplerate\")\n",
    "inputCH = SoundDevice.query_devices(inputName).get(\"max_input_channels\")\n",
    "outputSR = SoundDevice.query_devices(outputName).get(\"default_samplerate\")\n",
    "outputCH = SoundDevice.query_devices(outputName).get(\"max_output_channels\")"
   ]
  },
  {
   "cell_type": "code",
   "execution_count": null,
   "id": "65660e7c",
   "metadata": {},
   "outputs": [],
   "source": [
    "#Spaek youh vhoice\n",
    "myrecording = SoundDevice.rec(int(duration * inputSR), inputSR, inputCH)\n",
    "\n",
    "SoundDevice.wait()"
   ]
  },
  {
   "cell_type": "code",
   "execution_count": null,
   "id": "fabe5ba0",
   "metadata": {},
   "outputs": [],
   "source": [
    "#How do you sound?\n",
    "myaudio = SoundDevice.playrec(myrecording, outputSR, outputCH)"
   ]
  }
 ],
 "metadata": {
  "kernelspec": {
   "display_name": "Python 3 (ipykernel)",
   "language": "python",
   "name": "python3"
  },
  "language_info": {
   "codemirror_mode": {
    "name": "ipython",
    "version": 3
   },
   "file_extension": ".py",
   "mimetype": "text/x-python",
   "name": "python",
   "nbconvert_exporter": "python",
   "pygments_lexer": "ipython3",
   "version": "3.9.5"
  }
 },
 "nbformat": 4,
 "nbformat_minor": 5
}
