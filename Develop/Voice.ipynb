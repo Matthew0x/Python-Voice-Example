{
 "cells": [
  {
   "cell_type": "code",
   "execution_count": null,
   "id": "c528053f",
   "metadata": {},
   "outputs": [],
   "source": [
    "#First install the dependencies\n",
    "#pip install SpeechRecognition\n",
    "#pip install sounddevice\n",
    "\n",
    "import sounddevice as SoundDevice\n",
    "import speech_recognition as SpeechRecognition\n",
    "import numpy\n",
    "import matplotlib.pyplot\n",
    "\n",
    "print(\"Your SpeechRecognition version is: \" + SpeechRecognition.__version__)\n",
    "print(\"Your SoundDevice version is: \" + SoundDevice.__version__)\n",
    "\n",
    "#Check your recording device's index\n",
    "print(\"\\n\")\n",
    "print(SoundDevice.query_devices())"
   ]
  },
  {
   "cell_type": "code",
   "execution_count": null,
   "id": "acd4282a",
   "metadata": {},
   "outputs": [],
   "source": [
    "#SoundDevice.default.samplerate = 48000\n",
    "#SoundDevice.default.channels = 2, 1\n",
    "#SoundDevice.default.dtype='int32', 'int32'\n",
    "\n",
    "#print(\"Default samplerate: \" + str(SoundDevice.default.samplerate) + \"\\n\" + \"Default channels for input/output: \" + str(SoundDevice.default.channels))\n",
    "\n",
    "#Time in seconds\n",
    "duration = 5\n",
    "\n",
    "#First input, then output\n",
    "inputName = \"Microphone (3- USB PnP Audio De, MME\"\n",
    "outputName = \"Speakers (3- DAC-X6), MME\"\n",
    "SoundDevice.default.device = inputName, outputName\n",
    "\n",
    "#Set input and output using indices\n",
    "#inputIndex = 1\n",
    "#outputIndex = 4\n",
    "#SoundDevice.default.device = inputIndex, outputIndex\n",
    "\n",
    "#Set default input/output\n",
    "#SoundDevice.defult.device = None, None\n",
    "\n",
    "SoundDevice.default.device\n",
    "print(SoundDevice.query_devices(inputName))\n",
    "#print(SoundDevice.query_devices(inputIndex))\n",
    "print(SoundDevice.query_devices(outputName))\n",
    "#print(SoundDevice.query_devices(outputIndex))\n",
    "\n",
    "inputSR = SoundDevice.query_devices(inputName).get(\"default_samplerate\")\n",
    "inputCH = SoundDevice.query_devices(inputName).get(\"max_input_channels\")\n",
    "outputSR = SoundDevice.query_devices(outputName).get(\"default_samplerate\")\n",
    "outputCH = SoundDevice.query_devices(outputName).get(\"max_output_channels\")"
   ]
  },
  {
   "cell_type": "code",
   "execution_count": null,
   "id": "65660e7c",
   "metadata": {},
   "outputs": [],
   "source": [
    "#Spaek youh vhoice\n",
    "myRecording = SoundDevice.rec(int(duration * inputSR), inputSR, inputCH, dtype=\"int32\")\n",
    "\n",
    "SoundDevice.wait()"
   ]
  },
  {
   "cell_type": "code",
   "execution_count": null,
   "id": "fabe5ba0",
   "metadata": {},
   "outputs": [],
   "source": [
    "#How do you sound?\n",
    "myAudio = SoundDevice.playrec(myRecording, outputSR, outputCH, dtype=\"int32\")\n",
    "myAudio\n",
    "#Save file\n",
    "#write('output.wav', fs, myaudio.astype(numpy.int32))"
   ]
  },
  {
   "cell_type": "code",
   "execution_count": null,
   "id": "331f60a1",
   "metadata": {},
   "outputs": [],
   "source": [
    "time = 2\n",
    "frequency = 440\n",
    "\n",
    "#Recall that a sinusoidal wave of frequency f has formula w(t) = A*sin(2*pi*f*t)\n",
    "#This function basically generates 88200 values from 1 to 2\n",
    "samples = numpy.arange(44100 * time) / 44100\n",
    "len(samples)\n",
    "\n",
    "#You basically generate sound from 10kHz to 20kHz\n",
    "wave = 1000 * numpy.sin(2 * numpy.pi * frequency * samples)\n",
    "wav_wave = numpy.array(wave, dtype=numpy.int16)\n",
    "\n",
    "wav_wave\n",
    "\n",
    "#SoundDevice.play(wav_wave, blocking=True)"
   ]
  },
  {
   "cell_type": "code",
   "execution_count": null,
   "id": "297dccc4",
   "metadata": {},
   "outputs": [],
   "source": [
    "samples"
   ]
  },
  {
   "cell_type": "code",
   "execution_count": null,
   "id": "a6b654e5",
   "metadata": {},
   "outputs": [],
   "source": [
    "time = 2\n",
    "sampling_rate = 44100\n",
    "sampling_freq = 440 \n",
    "samples = 44100\n",
    "x = numpy.arange(samples * time)\n",
    "y = 1000 * numpy.sin(2 * numpy.pi * sampling_freq * x / sampling_rate)\n",
    "\n",
    "matplotlib.pyplot.plot(x,y)\n",
    "wav_wave = numpy.array(y, dtype=numpy.int16)\n",
    "\n",
    "wav_wave\n",
    "SoundDevice.play(wav_wave, blocking=True)"
   ]
  },
  {
   "cell_type": "code",
   "execution_count": null,
   "id": "d251906e",
   "metadata": {},
   "outputs": [],
   "source": [
    "sampleRate = 44100/2\n",
    "time = 5.0\n",
    "sampleFrequency = 220\n",
    "\n",
    "t = numpy.linspace(0, time, int(time*sampleRate), endpoint=False) # time variable\n",
    "y = 1*numpy.sin(2 * numpy.pi * sampleFrequency * t)# pure sine wave at 220 Hz\n",
    "\n",
    "wav_wave = numpy.array(y, dtype=numpy.int16)\n",
    "\n",
    "matplotlib.pyplot.plot(t, wav_wave)\n",
    "\n",
    "wav_wave\n",
    "\n",
    "#SoundDevice.play(wav_wave, blocking=True)"
   ]
  },
  {
   "cell_type": "code",
   "execution_count": null,
   "id": "cd6c1725",
   "metadata": {},
   "outputs": [],
   "source": [
    "#Source\n",
    "source =\"output.wave\"\n",
    "\n",
    "speech2text = SpeechRecognition.Recognizer()\n",
    "speech2text.recognize_google_cloud(source"
   ]
  },
  {
   "cell_type": "code",
   "execution_count": null,
   "id": "b6f67815",
   "metadata": {},
   "outputs": [],
   "source": []
  }
 ],
 "metadata": {
  "kernelspec": {
   "display_name": "Python 3 (ipykernel)",
   "language": "python",
   "name": "python3"
  },
  "language_info": {
   "codemirror_mode": {
    "name": "ipython",
    "version": 3
   },
   "file_extension": ".py",
   "mimetype": "text/x-python",
   "name": "python",
   "nbconvert_exporter": "python",
   "pygments_lexer": "ipython3",
   "version": "3.9.5"
  }
 },
 "nbformat": 4,
 "nbformat_minor": 5
}
